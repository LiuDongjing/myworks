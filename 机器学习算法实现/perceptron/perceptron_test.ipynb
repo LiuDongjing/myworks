{
 "cells": [
  {
   "cell_type": "code",
   "execution_count": 10,
   "metadata": {
    "collapsed": false
   },
   "outputs": [
    {
     "name": "stdout",
     "output_type": "stream",
     "text": [
      "训练样本个数：737。其中正样本: 353, 负样本：384.\n",
      "测试样本个数：81。其中正样本：39，负样本：42。\n",
      "训练结束。\n",
      "准确率: 1.000000.\n"
     ]
    }
   ],
   "source": [
    "import numpy as np\n",
    "import perceptron\n",
    "import matplotlib.pyplot as plt\n",
    "\n",
    "# 数据是二维的，在二维平面上用直线y=x分开\n",
    "\n",
    "# 生成正样本的训练和测试数据集\n",
    "postive_X = np.random.random(1000)*10\n",
    "postive_Y = np.random.random(1000)*10\n",
    "index = (postive_Y - postive_X) > 1\n",
    "postive_X = postive_X[index]\n",
    "postive_Y = postive_Y[index]\n",
    "postive_dat = np.vstack((postive_X, postive_Y)).T\n",
    "pos_test, pos_train = np.vsplit(postive_dat, [int(postive_dat.shape[0]*0.1)])\n",
    "\n",
    "#生成负样本的训练和测试数据集\n",
    "negtive_X = np.random.random(1000)*10\n",
    "negtive_Y = np.random.random(1000)*10\n",
    "index = (negtive_Y - negtive_X) < -1\n",
    "negtive_X = negtive_X[index]\n",
    "negtive_Y = negtive_Y[index]\n",
    "negtive_dat = np.vstack((negtive_X, negtive_Y)).T\n",
    "neg_test, neg_train = np.vsplit(negtive_dat, [int(negtive_dat.shape[0]*0.1)])\n",
    "\n",
    "# 显示数据的分布\n",
    "plt.scatter(postive_X, postive_Y, marker='+', c='b')\n",
    "plt.scatter(negtive_X, negtive_Y, marker='_', c='r')\n",
    "truth_X = np.arange(0, 10, 0.5)\n",
    "plt.plot(truth_X, truth_X, c='g')\n",
    "#plt.show()\n",
    "\n",
    "# 生成训练和测试数据集\n",
    "train_feature = np.vstack((pos_train, neg_train))\n",
    "train_label = np.vstack((np.ones((pos_train.shape[0], 1)),\n",
    "                        -np.ones((neg_train.shape[0], 1))))\n",
    "print(\"训练样本个数：%d。其中正样本: %d, 负样本：%d.\"%\n",
    "      (train_label.shape[0], pos_train.shape[0],\n",
    "       neg_train.shape[0]))\n",
    "test_feature = np.vstack((pos_test, neg_test))\n",
    "test_label = np.vstack((np.ones((pos_test.shape[0], 1)),\n",
    "                       -np.ones((neg_test.shape[0], 1))))\n",
    "print(\"测试样本个数：%d。其中正样本：%d，负样本：%d。\"%\n",
    "      (test_label.shape[0], pos_test.shape[0],\n",
    "       neg_test.shape[0]))\n",
    "\n",
    "# 训练和测试\n",
    "model = perceptron.Perceptron(eta=0.01)\n",
    "model.fit(train_feature, train_label)\n",
    "print(\"训练结束。\")\n",
    "pred = model.predict(test_feature)\n",
    "acc = np.sum(test_label == pred)/pred.shape[0]\n",
    "print(\"准确率: %f.\"%acc)\n",
    "\n",
    "# 绘制模型拟合的分界线\n",
    "w, b = model.get_params()\n",
    "a, c = w[0,0], w[1, 0]\n",
    "b = b[0, 0]\n",
    "a = -a/c\n",
    "b = b/c\n",
    "fit_X = np.arange(0, 10, 0.5)\n",
    "fit_Y = np.array(fit_X)*a+b\n",
    "plt.plot(fit_X, fit_Y, c='y')\n",
    "plt.show()"
   ]
  },
  {
   "cell_type": "code",
   "execution_count": null,
   "metadata": {
    "collapsed": true
   },
   "outputs": [],
   "source": []
  },
  {
   "cell_type": "code",
   "execution_count": null,
   "metadata": {
    "collapsed": true
   },
   "outputs": [],
   "source": []
  }
 ],
 "metadata": {
  "anaconda-cloud": {},
  "kernelspec": {
   "display_name": "Python [Root]",
   "language": "python",
   "name": "Python [Root]"
  },
  "language_info": {
   "codemirror_mode": {
    "name": "ipython",
    "version": 3
   },
   "file_extension": ".py",
   "mimetype": "text/x-python",
   "name": "python",
   "nbconvert_exporter": "python",
   "pygments_lexer": "ipython3",
   "version": "3.5.2"
  }
 },
 "nbformat": 4,
 "nbformat_minor": 0
}
